{
 "cells": [
  {
   "cell_type": "markdown",
   "metadata": {},
   "source": [
    "# Add ImageNet labels to YouTube video"
   ]
  },
  {
   "cell_type": "markdown",
   "metadata": {},
   "source": [
    "Install requirements in a Python environment:"
   ]
  },
  {
   "cell_type": "markdown",
   "metadata": {},
   "source": [
    "```shell\n",
    "# pip install tensorflow  # if not CUDA\n",
    "pip install tensorflow-gpu  # if CUDA\n",
    "pip install ffmpeg-python keras Pillow\n",
    "pip install pytube  # with this fix https://github.com/nficano/pytube/issues/333#issuecomment-436668766\n",
    "```"
   ]
  },
  {
   "cell_type": "markdown",
   "metadata": {},
   "source": [
    "Import modules:"
   ]
  },
  {
   "cell_type": "code",
   "execution_count": null,
   "metadata": {},
   "outputs": [],
   "source": [
    "import tempfile\n",
    "from pathlib import Path\n",
    "\n",
    "from IPython.display import YouTubeVideo\n",
    "\n",
    "import ffmpeg\n",
    "import numpy as np\n",
    "from pytube import YouTube\n",
    "from PIL import Image, ImageDraw, ImageFont\n",
    "from keras.preprocessing.image import load_img\n",
    "from keras.preprocessing.image import img_to_array\n",
    "from keras.applications.vgg16 import preprocess_input\n",
    "from keras.applications.vgg16 import decode_predictions\n",
    "from keras.applications.vgg16 import VGG16"
   ]
  },
  {
   "cell_type": "markdown",
   "metadata": {},
   "source": [
    "Define functions:"
   ]
  },
  {
   "cell_type": "code",
   "execution_count": null,
   "metadata": {},
   "outputs": [],
   "source": [
    "FRAMES_PATTERN = '%08d.png'\n",
    "\n",
    "def download_youtube_video(video_id, output_path):\n",
    "    if output_path.is_file(): return\n",
    "    print(f'Downloading video {video_id}...')\n",
    "    yt = YouTube(f'http://youtube.com/watch?v={VIDEO_ID}')\n",
    "    video_path = Path(\n",
    "        yt\n",
    "        .streams\n",
    "        .filter(progressive=True, file_extension='mp4')\n",
    "        .order_by('resolution')\n",
    "        .desc()\n",
    "        .first()\n",
    "        .download()\n",
    "    )\n",
    "    video_path.rename(output_path)\n",
    "    print('Video downloaded to', output_path)\n",
    "\n",
    "\n",
    "def video_to_frames(video_path, frames_dir, pattern=FRAMES_PATTERN):\n",
    "    if frames_dir.is_dir(): return\n",
    "    print('Splitting video into frames...')\n",
    "    frames_dir.mkdir(exist_ok=True)\n",
    "    frames_pattern = frames_dir / pattern\n",
    "    (\n",
    "        ffmpeg\n",
    "        .input(str(video_path))\n",
    "        .output(str(frames_pattern))\n",
    "        .run()\n",
    "    )\n",
    "\n",
    "    \n",
    "def frames_to_video(frames_dir, video_path, pattern=FRAMES_PATTERN, fps=25):\n",
    "    if video_path.is_file(): return\n",
    "    print('Joining frames into video...')\n",
    "    frames_pattern = frames_dir / pattern\n",
    "    (\n",
    "        ffmpeg\n",
    "        .input(str(frames_pattern), framerate=fps)\n",
    "        .output(str(video_path))\n",
    "        .run()\n",
    "    )\n",
    "\n",
    "    \n",
    "def get_frames_paths(frames_dir, pattern=FRAMES_PATTERN):\n",
    "    return sorted(list(frames_dir.glob('*.png')))\n",
    "    \n",
    "    \n",
    "def frames_to_labels(frames_dir, labels_path):\n",
    "    if labels_path.is_file(): return\n",
    "    print('Computing labels from frames...')\n",
    "    print('Loading VGG16 model...')\n",
    "    model = VGG16()\n",
    "    frames_paths = get_frames_paths(frames_dir)\n",
    "    num_frames = len(frames_paths)\n",
    "    features_shape = num_frames, 1000  # VGG16\n",
    "    features = np.empty(features_shape)\n",
    "    for i, fp in enumerate(frames_paths):\n",
    "        if i % 100 == 0:\n",
    "            print(f'Extracting features from frame {i+1}/{num_frames}...')\n",
    "        image = load_img(fp, target_size=(224, 224))\n",
    "        image = img_to_array(image)\n",
    "        image = image.reshape((1, image.shape[0], image.shape[1], image.shape[2]))\n",
    "        image = preprocess_input(image)\n",
    "        yhat = model.predict(image)\n",
    "        features[i] = yhat\n",
    "    decoded = decode_predictions(features)\n",
    "    labels = [[label for (_, label, _) in frame] for frame in decoded]\n",
    "    lines = [','.join(words) for words in labels]\n",
    "    text = '\\n'.join(lines)\n",
    "    labels_path.write_text(text)\n",
    "    return labels\n",
    "\n",
    "\n",
    "def annotate_frame(frame_path, labels, annotated_path):\n",
    "    image = Image.open(frame_path)\n",
    "    text = '\\n'.join(labels)\n",
    "    fontsize = 30\n",
    "    try:\n",
    "        font = ImageFont.truetype('/Library/Fonts/Arial.ttf', fontsize)\n",
    "    except OSError:\n",
    "        font = ImageFont.truetype(\n",
    "            '/usr/share/fonts/truetype/ubuntu/UbuntuMono-R.ttf', fontsize)\n",
    "    draw = ImageDraw.Draw(image)\n",
    "    draw.text((10,10), text, font=font)\n",
    "    image.save(annotated_path)\n",
    "\n",
    "\n",
    "def annotate_frames(frames_dir, labels_path, annotated_dir):\n",
    "    if annotated_dir.is_dir(): return\n",
    "    annotated_dir.mkdir(exist_ok=True)\n",
    "    lines = labels_path.read_text().splitlines()\n",
    "    frames_paths = get_frames_paths(frames_dir)\n",
    "    num_frames = len(frames_paths)\n",
    "    zipped = list(zip(frames_paths, lines))\n",
    "    for i, (frame_path, line) in enumerate(zipped):\n",
    "        if i % 100 == 0:\n",
    "            print(f'Annotating frame {i+1}/{num_frames}...')\n",
    "        annotated_path = annotated_dir / frame_path.name\n",
    "        labels = [label.replace('_', ' ') for label in line.split(',')]\n",
    "        annotate_frame(frame_path, labels, annotated_path)\n",
    "\n",
    "        \n",
    "def annotate_youtube_video(video_id, output_path):\n",
    "    # Define paths\n",
    "    video_dir = Path(video_id)\n",
    "    downloaded_path = video_dir / 'original.mp4'\n",
    "    frames_dir = video_dir / 'original_frames'\n",
    "    labels_path = video_dir / 'labels.csv'\n",
    "    annotated_dir = video_dir / 'annotated_frames'\n",
    "    detectron_dir = video_dir / 'detectron_frames'\n",
    "    output_path = video_dir / 'annotated.mp4'\n",
    "    \n",
    "    # Do stuff\n",
    "    video_dir.mkdir(exist_ok=True)\n",
    "    download_youtube_video(video_id, downloaded_path)\n",
    "    video_to_frames(downloaded_path, frames_dir)\n",
    "    frames_to_labels(frames_dir, labels_path)\n",
    "    to_annotate_dir = detectron_dir if detectron_dir.is_dir() else frames_dir\n",
    "    annotate_frames(to_annotate_dir, labels_path, annotated_dir)\n",
    "    frames_to_video(annotated_dir, output_path)"
   ]
  },
  {
   "cell_type": "markdown",
   "metadata": {},
   "source": [
    "Display the video:"
   ]
  },
  {
   "cell_type": "code",
   "execution_count": null,
   "metadata": {},
   "outputs": [],
   "source": [
    "VIDEO_ID = '9lY_yUZf6ts'\n",
    "youtube_video = YouTubeVideo(VIDEO_ID)\n",
    "display(youtube_video)"
   ]
  },
  {
   "cell_type": "markdown",
   "metadata": {},
   "source": [
    "Download and annotate video:"
   ]
  },
  {
   "cell_type": "code",
   "execution_count": null,
   "metadata": {
    "scrolled": false
   },
   "outputs": [],
   "source": [
    "processed_video_path = Path('processed.mp4')\n",
    "annotate_youtube_video(VIDEO_ID, processed_video_path)"
   ]
  },
  {
   "cell_type": "markdown",
   "metadata": {},
   "source": [
    "Run Mask R-CNN on original frames:\n",
    "```shell\n",
    "python /home/fernando/git/detectron/tools/infer_simple.py \\                                            \n",
    "    --cfg /home/fernando/git/detectron/configs/12_2017_baselines/e2e_mask_rcnn_R-101-FPN_2x.yaml \\\n",
    "    --output-dir /home/fernando/git/marina-ffmpeg/9lY_yUZf6ts/detectron_frames \\\n",
    "    --wts https://s3-us-west-2.amazonaws.com/detectron/35861858/12_2017_baselines/e2e_mask_rcnn_R-101-FPN_2x.yaml.02_32_51.SgT4y1cO/output/train/coco_2014_train:coco_2014_valminusminival/generalized_rcnn/model_final.pkl \\\n",
    "    --image-ext png \\\n",
    "    --output-ext png \\\n",
    "    /home/fernando/git/marina-ffmpeg/9lY_yUZf6ts/original_frames\n",
    "```"
   ]
  },
  {
   "cell_type": "code",
   "execution_count": null,
   "metadata": {},
   "outputs": [],
   "source": [
    "annotate_youtube_video(VIDEO_ID, processed_video_path)"
   ]
  }
 ],
 "metadata": {
  "kernelspec": {
   "display_name": "Python 3",
   "language": "python",
   "name": "python3"
  },
  "language_info": {
   "codemirror_mode": {
    "name": "ipython",
    "version": 3
   },
   "file_extension": ".py",
   "mimetype": "text/x-python",
   "name": "python",
   "nbconvert_exporter": "python",
   "pygments_lexer": "ipython3",
   "version": "3.6.6"
  }
 },
 "nbformat": 4,
 "nbformat_minor": 2
}
